{
 "cells": [
  {
   "cell_type": "markdown",
   "metadata": {},
   "source": [
    "Why Hashing?\n",
    "Hashing is important when we want to trasverse a data frame again and again repeatedly\n",
    "\n",
    "For Example, we have an array [1,2,3,1,2,4,8,6,4,6,4,3,8,9,1] and some one asks how many times does 1 occur here in this array?\n",
    "The first approach that comes to mind is running a for loop and count the number of times 1 has occurred in the array.\n",
    "NOw imagine running this loop for an array with 10^5 elements and for 10^5 numbers. It would be very huge and will take a long time to run\n",
    "\n",
    "\n",
    "Here hashing can come handy where we prestore and fetch the data\n",
    "\n",
    "\n"
   ]
  },
  {
   "cell_type": "code",
   "execution_count": 5,
   "metadata": {},
   "outputs": [
    {
     "name": "stdout",
     "output_type": "stream",
     "text": [
      "5\n",
      "1\n",
      "2\n",
      "7\n",
      "9\n",
      "4\n",
      "Number of occurrences: {5: 2, 1: 1, 2: 1, 7: 2, 9: 2, 4: 1}\n",
      "[5, 1, 2, 7, 7, 9, 5, 4, 9]\n"
     ]
    }
   ],
   "source": [
    "import random\n",
    "\n",
    "# Generate a random array of numbers\n",
    "array = [random.randint(1, 10) for _ in range(9)]\n",
    "\n",
    "# Define a hash function\n",
    "def hash_function(number):\n",
    "  return number % 10  # Simple modulo hash function\n",
    "\n",
    "# Create a dictionary to store the number of occurrences\n",
    "occurrences = {}\n",
    "\n",
    "# Loop through the array and count the occurrences\n",
    "for number in array:\n",
    "  hash_value = hash_function(number)\n",
    "  if hash_value in occurrences:\n",
    "    occurrences[hash_value] += 1  # Increment count if number already exists\n",
    "    \n",
    "  else:\n",
    "    occurrences[hash_value] = 1  # Add new entry with count 1\n",
    "    print(hash_value)\n",
    "\n",
    "# Print the occurrences\n",
    "print(f\"Number of occurrences: {occurrences}\")\n",
    "print(array)"
   ]
  }
 ],
 "metadata": {
  "kernelspec": {
   "display_name": "base",
   "language": "python",
   "name": "python3"
  },
  "language_info": {
   "codemirror_mode": {
    "name": "ipython",
    "version": 3
   },
   "file_extension": ".py",
   "mimetype": "text/x-python",
   "name": "python",
   "nbconvert_exporter": "python",
   "pygments_lexer": "ipython3",
   "version": "3.11.5"
  }
 },
 "nbformat": 4,
 "nbformat_minor": 2
}
