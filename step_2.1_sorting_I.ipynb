{
 "cells": [
  {
   "cell_type": "markdown",
   "metadata": {},
   "source": [
    "Selection sort:\n",
    "\n",
    "The algorithm steps are as follows:\n",
    "\n",
    "    1. First, we will select the range of the unsorted array using a loop (say i) that indicates the starting index of the range.\n",
    "    2. The loop will run forward from 0 to n-1. The value i = 0 means the range is from 0 to n-1, and similarly, i = 1 means the range is from 1 to n-1, and so on. (Initially, the range will be the whole array starting from the first index.)\n",
    "    3. Now, in each iteration, we will select the minimum element from the range of the unsorted array using an inner loop.\n",
    "    4. After that, we will swap the minimum element with the first element of the selected range(in step 1). \n",
    "    5. Finally, after each iteration, we will find that the array is sorted up to the first index of the range. \n",
    "\n",
    "Note: Here, after each iteration, the array becomes sorted up to the first index of the range. That is why the starting index of the range increases by 1 after each iteration. This increment is achieved by the outer loop and the starting index is represented by variable i in the following code. And the inner loop(i.e. j) helps to find the minimum element of the range [i…..n-1].\n",
    "\n",
    "\n",
    "Time complexity: O(N2), (where N = size of the array), for the best, worst, and average cases.\n",
    "Reason: If we carefully observe, we can notice that the outer loop, say i, is running from 0 to n-2 i.e. n-1 times, and for each i, the inner loop j runs from i to n-1. For, i = 0, the inner loop runs n-1 times, for i = 1, the inner loop runs n-2 times, and so on. So, the total steps will be approximately the following: (n-1) + (n-2) + (n-3) + ……..+ 3 + 2 + 1. The summation is approximately the sum of the first n natural numbers i.e. (n*(n+1))/2. The precise time complexity will be O(n2/2 + n/2). Previously, we have learned that we can ignore the lower values as well as the constant coefficients. So, the time complexity is O(n2). Here the value of n is N i.e. the size of the array."
   ]
  },
  {
   "cell_type": "code",
   "execution_count": 5,
   "metadata": {},
   "outputs": [
    {
     "name": "stdout",
     "output_type": "stream",
     "text": [
      "[1, 2, 4, 5, 6, 7, 8]\n"
     ]
    }
   ],
   "source": [
    "#selection sort\n",
    "#compare the first element with the minimum value and then swap with the minimum elementn with the first element.\n",
    "\n",
    "arr = [2, 5, 6, 8, 7, 1, 4]\n",
    "\n",
    "for i in range(len(arr)):\n",
    "    min_index = i\n",
    "    for j in range(i+1, len(arr)):\n",
    "        if arr[min_index] > arr[j]:\n",
    "            min_index = j\n",
    "    arr[i], arr[min_index] = arr[min_index], arr[i]\n",
    "\n",
    "\n",
    "print(arr)"
   ]
  },
  {
   "cell_type": "markdown",
   "metadata": {},
   "source": [
    "Bubble sort:\n",
    "\n",
    "The algorithm steps are as follows:\n",
    "\n",
    "    1. First, we will select the range of the unsorted array. For that, we will run a loop(say i) that will signify the last index of the selected range. The loop will run backward from index n-1 to 0(where n = size of the array). The value i = n-1 means the range is from 0 to n-1, and similarly, i = n-2 means the range is from 0 to n-2, and so on.\n",
    "    2. Within the loop, we will run another loop(say j, runs from 0 to i-1 though the range is from 0 to i) to push the maximum element to the last index of the selected range, by repeatedly swapping adjacent elements.\n",
    "    3. Basically, we will swap adjacent elements(if arr[j] > arr[j+1]) until the maximum element of the range reaches the end.\n",
    "    4. Thus, after each iteration, the last part of the array will become sorted. Like: after the first iteration, the array up to the last index will be sorted, and after the second iteration, the array up to the second last index will be sorted, and so on.\n",
    "    5. After (n-1) iteration, the whole array will be sorted.\n",
    "\n",
    "Note: Here, after each iteration, the array becomes sorted up to the last index of the range. That is why the last index of the range decreases by 1 after each iteration. This decrement is achieved by the outer loop and the last index is represented by variable i in the following code. And the inner loop(i.e. j) helps to push the maximum element of range [0….i] to the last index(i.e. index i).\n",
    "\n",
    "\n",
    "Time complexity: O(N2), (where N = size of the array), for the worst, and average cases.\n",
    "Reason: If we carefully observe, we can notice that the outer loop, say i, is running from n-1 to 0 i.e. n times, and for each i, the inner loop j runs from 0 to i-1. For, i = n-1, the inner loop runs n-1 times, for i = n-2, the inner loop runs n-2 times, and so on. So, the total steps will be approximately the following: (n-1) + (n-2) + (n-3) + ……..+ 3 + 2 + 1. The summation is approximately the sum of the first n natural numbers i.e. (n*(n+1))/2. The precise time complexity will be O(n2/2 + n/2). Previously, we have learned that we can ignore the lower values as well as the constant coefficients. So, the time complexity is O(n2). Here the value of n is N i.e. the size of the array.\n",
    "\n",
    "Space Complexity: O(1)"
   ]
  },
  {
   "cell_type": "code",
   "execution_count": 26,
   "metadata": {},
   "outputs": [
    {
     "name": "stdout",
     "output_type": "stream",
     "text": [
      "[1, 2, 3, 4, 5, 6, 7, 8]\n"
     ]
    }
   ],
   "source": [
    "#bubble sort\n",
    "#compare the last elememnt with the maximum value then swap the maximum element with the last element\n",
    "\n",
    "arr = [2, 5, 6, 8, 7, 1, 4, 3]\n",
    "\n",
    "for i in range(len(arr)-1,-1,-1):\n",
    "    max_index = i \n",
    "    for j in range(max_index):\n",
    "        if arr[max_index] < arr[j]:\n",
    "            max_index = j\n",
    "    arr[i], arr[max_index] = arr[max_index], arr[i]\n",
    "\n",
    "print(arr)"
   ]
  },
  {
   "cell_type": "markdown",
   "metadata": {},
   "source": [
    "Insertion Sort:\n",
    "Approach: \n",
    "\n",
    "    1. Select an element in each iteration from the unsorted array(using a loop).\n",
    "    2. Place it in its corresponding position in the sorted part and shift the remaining elements accordingly (using an inner loop and swapping).\n",
    "    3. The “inner while loop” basically shifts the elements using swapping.\n",
    "\n",
    "Time complexity: O(N2), (where N = size of the array), for the worst, and average cases.\n",
    "Reason: If we carefully observe, we can notice that the outer loop, say i, is running from 0 to n-1 i.e. n times, and for each i, the inner loop j runs from i to 1 i.e. i times. For, i = 1, the inner loop runs 1 time, for i = 2, the inner loop runs 2 times, and so on. So, the total steps will be approximately the following: 1 + 2 + 3 +……+ (n-2) + (n-1). The summation is approximately the sum of the first n natural numbers i.e. (n*(n+1))/2. The precise time complexity will be O(n2/2 + n/2). Previously, we have learned that we can ignore the lower values as well as the constant coefficients. So, the time complexity is O(n2). Here the value of n is N i.e. the size of the array.\n",
    "\n",
    "Space Complexity: O(1)"
   ]
  },
  {
   "cell_type": "code",
   "execution_count": 52,
   "metadata": {},
   "outputs": [
    {
     "name": "stdout",
     "output_type": "stream",
     "text": [
      "i is 1 and key is 5\n",
      "i is 2 and key is 6\n",
      "i is 3 and key is 8\n",
      "i is 4 and key is 7\n",
      "While loop started\n",
      "i is 4, j is 3 and key is 7 and arr_j is 8\n",
      "[2, 5, 6, 8, 8, 1, 4, 3]\n",
      "i is 5 and key is 1\n",
      "While loop started\n",
      "i is 5, j is 4 and key is 1 and arr_j is 8\n",
      "[2, 5, 6, 7, 8, 8, 4, 3]\n",
      "While loop started\n",
      "i is 5, j is 3 and key is 1 and arr_j is 7\n",
      "[2, 5, 6, 7, 7, 8, 4, 3]\n",
      "While loop started\n",
      "i is 5, j is 2 and key is 1 and arr_j is 6\n",
      "[2, 5, 6, 6, 7, 8, 4, 3]\n",
      "While loop started\n",
      "i is 5, j is 1 and key is 1 and arr_j is 5\n",
      "[2, 5, 5, 6, 7, 8, 4, 3]\n",
      "While loop started\n",
      "i is 5, j is 0 and key is 1 and arr_j is 2\n",
      "[2, 2, 5, 6, 7, 8, 4, 3]\n",
      "i is 6 and key is 4\n",
      "While loop started\n",
      "i is 6, j is 5 and key is 4 and arr_j is 8\n",
      "[1, 2, 5, 6, 7, 8, 8, 3]\n",
      "While loop started\n",
      "i is 6, j is 4 and key is 4 and arr_j is 7\n",
      "[1, 2, 5, 6, 7, 7, 8, 3]\n",
      "While loop started\n",
      "i is 6, j is 3 and key is 4 and arr_j is 6\n",
      "[1, 2, 5, 6, 6, 7, 8, 3]\n",
      "While loop started\n",
      "i is 6, j is 2 and key is 4 and arr_j is 5\n",
      "[1, 2, 5, 5, 6, 7, 8, 3]\n",
      "i is 7 and key is 3\n",
      "While loop started\n",
      "i is 7, j is 6 and key is 3 and arr_j is 8\n",
      "[1, 2, 4, 5, 6, 7, 8, 8]\n",
      "While loop started\n",
      "i is 7, j is 5 and key is 3 and arr_j is 7\n",
      "[1, 2, 4, 5, 6, 7, 7, 8]\n",
      "While loop started\n",
      "i is 7, j is 4 and key is 3 and arr_j is 6\n",
      "[1, 2, 4, 5, 6, 6, 7, 8]\n",
      "While loop started\n",
      "i is 7, j is 3 and key is 3 and arr_j is 5\n",
      "[1, 2, 4, 5, 5, 6, 7, 8]\n",
      "While loop started\n",
      "i is 7, j is 2 and key is 3 and arr_j is 4\n",
      "[1, 2, 4, 4, 5, 6, 7, 8]\n",
      "[1, 2, 3, 4, 5, 6, 7, 8]\n"
     ]
    },
    {
     "data": {
      "text/plain": [
       "'This is the inner loop that compares the current element (key) with the elements in the sorted part of the array (elements before the current index i). \\nIf the current element is smaller than the elements being compared, those elements are shifted one position to the right until the correct position for the current element is found.'"
      ]
     },
     "execution_count": 52,
     "metadata": {},
     "output_type": "execute_result"
    }
   ],
   "source": [
    "#insertion sort\n",
    "\n",
    "arr = [2, 5, 6, 8, 7, 1, 4, 3]\n",
    "\n",
    "for i in range(1, len(arr)):  #The outer loop iterates through each element in the array, starting from the second element (index 1). The reason for starting from the second element is that the first element is considered to be a sorted part initially\n",
    "    key = arr[i]\n",
    "    j = i - 1\n",
    "    while j >= 0 and key < arr[j]:\n",
    "        arr[j + 1] = arr[j]\n",
    "        print(arr)\n",
    "        j -= 1\n",
    "    arr[j + 1] = key    #it replaces the element with the key\n",
    "    #print(key)\n",
    "\n",
    "print(arr)\n",
    "\n",
    "'''This is the inner loop that compares the current element (key) with the elements in the sorted part of the array (elements before the current index i). \n",
    "If the current element is smaller than the elements being compared, those elements are shifted one position to the right until the correct position for the current element is found.'''"
   ]
  },
  {
   "cell_type": "code",
   "execution_count": null,
   "metadata": {},
   "outputs": [],
   "source": []
  }
 ],
 "metadata": {
  "kernelspec": {
   "display_name": "base",
   "language": "python",
   "name": "python3"
  },
  "language_info": {
   "codemirror_mode": {
    "name": "ipython",
    "version": 3
   },
   "file_extension": ".py",
   "mimetype": "text/x-python",
   "name": "python",
   "nbconvert_exporter": "python",
   "pygments_lexer": "ipython3",
   "version": "3.11.5"
  }
 },
 "nbformat": 4,
 "nbformat_minor": 2
}
