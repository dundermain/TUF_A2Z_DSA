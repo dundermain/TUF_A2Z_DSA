{
 "cells": [
  {
   "cell_type": "markdown",
   "metadata": {},
   "source": [
    "Selection sort:\n",
    "\n",
    "The algorithm steps are as follows:\n",
    "\n",
    "    1. First, we will select the range of the unsorted array using a loop (say i) that indicates the starting index of the range.\n",
    "    2. The loop will run forward from 0 to n-1. The value i = 0 means the range is from 0 to n-1, and similarly, i = 1 means the range is from 1 to n-1, and so on. (Initially, the range will be the whole array starting from the first index.)\n",
    "    3. Now, in each iteration, we will select the minimum element from the range of the unsorted array using an inner loop.\n",
    "    4. After that, we will swap the minimum element with the first element of the selected range(in step 1). \n",
    "    5. Finally, after each iteration, we will find that the array is sorted up to the first index of the range. \n",
    "\n",
    "Note: Here, after each iteration, the array becomes sorted up to the first index of the range. That is why the starting index of the range increases by 1 after each iteration. This increment is achieved by the outer loop and the starting index is represented by variable i in the following code. And the inner loop(i.e. j) helps to find the minimum element of the range [i…..n-1].\n",
    "\n",
    "\n",
    "Time complexity: O(N2), (where N = size of the array), for the best, worst, and average cases.\n",
    "Reason: If we carefully observe, we can notice that the outer loop, say i, is running from 0 to n-2 i.e. n-1 times, and for each i, the inner loop j runs from i to n-1. For, i = 0, the inner loop runs n-1 times, for i = 1, the inner loop runs n-2 times, and so on. So, the total steps will be approximately the following: (n-1) + (n-2) + (n-3) + ……..+ 3 + 2 + 1. The summation is approximately the sum of the first n natural numbers i.e. (n*(n+1))/2. The precise time complexity will be O(n2/2 + n/2). Previously, we have learned that we can ignore the lower values as well as the constant coefficients. So, the time complexity is O(n2). Here the value of n is N i.e. the size of the array."
   ]
  },
  {
   "cell_type": "code",
   "execution_count": 5,
   "metadata": {},
   "outputs": [
    {
     "name": "stdout",
     "output_type": "stream",
     "text": [
      "[1, 2, 4, 5, 6, 7, 8]\n"
     ]
    }
   ],
   "source": [
    "#selection sort\n",
    "#compare the first element with the minimum value and then swap with the minimum elementn with the first element.\n",
    "\n",
    "arr = [2, 5, 6, 8, 7, 1, 4]\n",
    "\n",
    "for i in range(len(arr)):\n",
    "    min_index = i\n",
    "    for j in range(i+1, len(arr)):\n",
    "        if arr[min_index] > arr[j]:\n",
    "            min_index = j\n",
    "    arr[i], arr[min_index] = arr[min_index], arr[i]\n",
    "\n",
    "\n",
    "print(arr)"
   ]
  },
  {
   "cell_type": "code",
   "execution_count": null,
   "metadata": {},
   "outputs": [],
   "source": []
  }
 ],
 "metadata": {
  "kernelspec": {
   "display_name": "base",
   "language": "python",
   "name": "python3"
  },
  "language_info": {
   "codemirror_mode": {
    "name": "ipython",
    "version": 3
   },
   "file_extension": ".py",
   "mimetype": "text/x-python",
   "name": "python",
   "nbconvert_exporter": "python",
   "pygments_lexer": "ipython3",
   "version": "3.11.5"
  }
 },
 "nbformat": 4,
 "nbformat_minor": 2
}
