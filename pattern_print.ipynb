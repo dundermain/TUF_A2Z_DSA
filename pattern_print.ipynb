{
 "cells": [
  {
   "cell_type": "markdown",
   "metadata": {},
   "source": [
    "LInk: https://www.youtube.com/watch?v=tNm_NNSB3_w"
   ]
  },
  {
   "cell_type": "markdown",
   "metadata": {},
   "source": [
    "Important tips for patterns:\n",
    "* basically most probelms will be nested loops\n",
    "* there will be 2 loops. OUter loops and inner loop\n",
    "* outer loops is for number of lines or rows and inner loop is for number of columns\n",
    "* inner loops should be somehow connected to outer loop\n",
    "* OBserve symmetery incase there is any symmetry so that we can solve in minimum steps"
   ]
  },
  {
   "cell_type": "code",
   "execution_count": 8,
   "metadata": {},
   "outputs": [
    {
     "name": "stdout",
     "output_type": "stream",
     "text": [
      "* * * * * \n",
      "* * * * * \n",
      "* * * * * \n",
      "* * * * * \n",
      "* * * * * \n"
     ]
    }
   ],
   "source": [
    "for _ in range(5):\n",
    "        for _ in range(5):\n",
    "            print(\"*\", end=\" \")\n",
    "        \n",
    "        print()"
   ]
  },
  {
   "cell_type": "code",
   "execution_count": 11,
   "metadata": {},
   "outputs": [
    {
     "name": "stdout",
     "output_type": "stream",
     "text": [
      "* \n",
      "* * \n",
      "* * * \n",
      "* * * * \n",
      "* * * * * \n"
     ]
    }
   ],
   "source": [
    "for i in range(5):\n",
    "    for _ in range(i+1):\n",
    "        print(\"*\", end=\" \")\n",
    "    print()"
   ]
  },
  {
   "cell_type": "code",
   "execution_count": 13,
   "metadata": {},
   "outputs": [
    {
     "name": "stdout",
     "output_type": "stream",
     "text": [
      "1 \n",
      "1 2 \n",
      "1 2 3 \n",
      "1 2 3 4 \n",
      "1 2 3 4 5 \n",
      "1 2 3 4 5 6 \n"
     ]
    }
   ],
   "source": [
    "def nTriangle(n:int):\n",
    "\n",
    "    for i in range(1, n+1):\n",
    "        for j in range(1, i+1):\n",
    "            print(j, end=\" \")\n",
    "        print()\n",
    "\n",
    "nTriangle(6)"
   ]
  },
  {
   "cell_type": "code",
   "execution_count": 14,
   "metadata": {},
   "outputs": [
    {
     "name": "stdout",
     "output_type": "stream",
     "text": [
      "1 \n",
      "2 2 \n",
      "3 3 3 \n",
      "4 4 4 4 \n",
      "5 5 5 5 5 \n",
      "6 6 6 6 6 6 \n"
     ]
    }
   ],
   "source": [
    "def nTriangle(n:int):\n",
    "\n",
    "    for i in range(1, n+1):\n",
    "        for _ in range(1, i+1):\n",
    "            print(i, end=\" \")\n",
    "        print()\n",
    "\n",
    "nTriangle(6)"
   ]
  },
  {
   "cell_type": "code",
   "execution_count": 1,
   "metadata": {},
   "outputs": [
    {
     "name": "stdout",
     "output_type": "stream",
     "text": [
      "* * * * * \n",
      "* * * * \n",
      "* * * \n",
      "* * \n",
      "* \n"
     ]
    }
   ],
   "source": [
    "for i in range(5,0,-1):\n",
    "    for _ in range(0,i):\n",
    "        print(\"*\",end=\" \")\n",
    "    print()"
   ]
  },
  {
   "cell_type": "code",
   "execution_count": 5,
   "metadata": {},
   "outputs": [
    {
     "name": "stdout",
     "output_type": "stream",
     "text": [
      "1 2 3 4 5 \n",
      "1 2 3 4 \n",
      "1 2 3 \n",
      "1 2 \n",
      "1 \n"
     ]
    }
   ],
   "source": [
    "for i in range(5,0,-1):\n",
    "    for j in range(1,i+1):\n",
    "        print(j,end=\" \")\n",
    "    print()"
   ]
  },
  {
   "cell_type": "code",
   "execution_count": 12,
   "metadata": {},
   "outputs": [
    {
     "name": "stdout",
     "output_type": "stream",
     "text": [
      "            * \n",
      "          * * * \n",
      "        * * * * * \n",
      "      * * * * * * * \n",
      "    * * * * * * * * * \n",
      "  * * * * * * * * * * * \n"
     ]
    }
   ],
   "source": [
    "def nStarTriangle(n):\n",
    "    # Write your code here.\n",
    "    for i in range(n):\n",
    "        for _ in range(n-i):\n",
    "            print(\" \", end=\" \")\n",
    "        for _ in range(2*i+1):\n",
    "            print(\"*\",end=\" \")\n",
    "        print()\n",
    "\n",
    "\n",
    "nStarTriangle(6)"
   ]
  },
  {
   "cell_type": "code",
   "execution_count": 1,
   "metadata": {},
   "outputs": [
    {
     "name": "stdout",
     "output_type": "stream",
     "text": [
      "* * * * * * * * * * * \n",
      "  * * * * * * * * * \n",
      "    * * * * * * * \n",
      "      * * * * * \n",
      "        * * * \n",
      "          * \n"
     ]
    }
   ],
   "source": [
    "def nStarTriangle(n):\n",
    "    # Write your code here.\n",
    "    for i in range(n):\n",
    "        for _ in range(i):\n",
    "            print(\" \", end=\" \")\n",
    "        for _ in range((2*(n-i-1))+1):\n",
    "            print(\"*\",end=\" \")\n",
    "        print()\n",
    "\n",
    "\n",
    "nStarTriangle(6)"
   ]
  },
  {
   "cell_type": "code",
   "execution_count": 14,
   "metadata": {},
   "outputs": [
    {
     "name": "stdout",
     "output_type": "stream",
     "text": [
      "*         \n",
      "* *       \n",
      "* * *     \n",
      "* * * *   \n",
      "* * * * * \n",
      "* * * *   \n",
      "* * *     \n",
      "* *       \n",
      "*         \n"
     ]
    }
   ],
   "source": [
    "def pat_ten(n):\n",
    "    for i in range(n):\n",
    "        for _ in range(i+1):\n",
    "            print(\"*\", end=\" \")\n",
    "        for _ in range(n-i-1):\n",
    "            print(\" \", end=\" \")\n",
    "        print()\n",
    "\n",
    "    for i in range(n-1, 0, -1):\n",
    "        for _ in range(i):\n",
    "            print(\"*\", end=\" \")\n",
    "        for _ in range(n-i):\n",
    "            print(\" \", end=\" \")\n",
    "        print()\n",
    "\n",
    "pat_ten(5)"
   ]
  },
  {
   "cell_type": "code",
   "execution_count": 20,
   "metadata": {},
   "outputs": [
    {
     "name": "stdout",
     "output_type": "stream",
     "text": [
      "1 \n",
      "0 1 \n",
      "1 0 1 \n",
      "0 1 0 1 \n",
      "1 0 1 0 1 \n"
     ]
    }
   ],
   "source": [
    "def pat_eleven(n):\n",
    "\n",
    "    for i in range(n):\n",
    "        for j in range(i+1):\n",
    "            if (i+j)%2==0:\n",
    "                print(\"1\",end=\" \")\n",
    "            else:\n",
    "                print(\"0\",end=\" \")\n",
    "        print()\n",
    "\n",
    "pat_eleven(5)"
   ]
  },
  {
   "cell_type": "code",
   "execution_count": null,
   "metadata": {},
   "outputs": [],
   "source": []
  }
 ],
 "metadata": {
  "kernelspec": {
   "display_name": "base",
   "language": "python",
   "name": "python3"
  },
  "language_info": {
   "codemirror_mode": {
    "name": "ipython",
    "version": 3
   },
   "file_extension": ".py",
   "mimetype": "text/x-python",
   "name": "python",
   "nbconvert_exporter": "python",
   "pygments_lexer": "ipython3",
   "version": "3.11.5"
  }
 },
 "nbformat": 4,
 "nbformat_minor": 2
}
