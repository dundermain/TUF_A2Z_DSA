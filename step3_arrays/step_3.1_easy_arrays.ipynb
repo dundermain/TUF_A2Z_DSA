{
 "cells": [
  {
   "cell_type": "code",
   "execution_count": 21,
   "metadata": {},
   "outputs": [],
   "source": [
    "#find the maximum of array\n",
    "\n",
    "#brute force approach\n",
    "def maximum(array):\n",
    "    \"Idea is to sort the array then find the maximum\"\n",
    "    for i in range(1,len(array)):\n",
    "        for j in range(i):\n",
    "            if array[j] > array[i]:\n",
    "                array[i],array[j] = array[j],array[i]\n",
    "    return array[-1]\n",
    "\n",
    "\n",
    "maximum([1,2,3,4,5,1])\n",
    "\n",
    "\n",
    "#optimal approach\n",
    "\n",
    "def maximum_optimal(array):\n",
    "    largest = array[0]\n",
    "    for i in range(1,len(array)):\n",
    "        largest = max(largest,array[i])\n",
    "    return largest\n",
    "\n",
    "maximum_optimal([1,2,3,4,6,1])"
   ]
  },
  {
   "cell_type": "code",
   "execution_count": 48,
   "metadata": {},
   "outputs": [
    {
     "data": {
      "text/plain": [
       "9"
      ]
     },
     "execution_count": 48,
     "metadata": {},
     "output_type": "execute_result"
    }
   ],
   "source": [
    "#find second largest element\n",
    "\n",
    "#brute force approach\n",
    "def second_largest_element_bfa(array):\n",
    "    for i in range(1,len(array)):\n",
    "        for j in range(i):\n",
    "            if array[j] > array[i]:\n",
    "                array[i],array[j] = array[j],array[i]\n",
    "    \n",
    "            \n",
    "    for i in range(len(array)-2,-1,-1):\n",
    "        if array[i] != array[-1]:\n",
    "            element = array[i]\n",
    "            break\n",
    "    return element\n",
    "    \n",
    "second_largest_element_bfa([3,2,1,4,6,1,5,7,7,9,9,2,3,6])\n",
    "\n",
    "\n",
    "\n",
    "\n",
    "#better approach\n",
    "def second_largest_element_better(array):\n",
    "    \n",
    "    largest = array[0]\n",
    "    second_largest = array[0]\n",
    "    for i in range(1,len(array)):\n",
    "        if array[i] > largest:\n",
    "            largest = array[i]\n",
    "        \n",
    "    for i in range(1,len(array)):\n",
    "        if array[i] != largest and array[i] > second_largest:\n",
    "            second_largest = array[i]\n",
    "    return second_largest\n",
    "\n",
    "\n",
    "second_largest_element_better([3,2,1,4,6,1,5,7,7,9,9,2,3,6,10])\n",
    "\n",
    "\n",
    "\n",
    "\n",
    "#optimal approach\n",
    "def second_largest_element_optimal(array):\n",
    "    largest = array[0]\n",
    "    second_largest = array[0]\n",
    "    for i in range(1,len(array)):\n",
    "        if array[i] > largest:\n",
    "            second_largest = largest\n",
    "            largest = array[i]\n",
    "    return second_largest\n",
    "\n",
    "second_largest_element_optimal([3,2,1,4,6,1,5,7,7,9,9,2,3,6])\n",
    "\n"
   ]
  },
  {
   "cell_type": "code",
   "execution_count": 57,
   "metadata": {},
   "outputs": [
    {
     "name": "stdout",
     "output_type": "stream",
     "text": [
      "array is not sorted\n"
     ]
    }
   ],
   "source": [
    "#check if the array is sorted correctly\n",
    "\n",
    "def sorted_array_check(array):\n",
    "    for i in range(1,len(array)):\n",
    "        if array[i - 1] <= array[i]:\n",
    "            continue\n",
    "        print(\"array is not sorted\")\n",
    "        break\n",
    "\n",
    "    \n",
    "sorted_array_check([1,2,3,4,5,6,7,8,9,10,1])\n"
   ]
  },
  {
   "cell_type": "code",
   "execution_count": 66,
   "metadata": {},
   "outputs": [
    {
     "data": {
      "text/plain": [
       "11"
      ]
     },
     "execution_count": 66,
     "metadata": {},
     "output_type": "execute_result"
    }
   ],
   "source": [
    "#remove duplicates in array\n",
    "\n",
    "#brute force approach\n",
    "def remove_duplicates(array):\n",
    "    array = set(array)\n",
    "    return len(list(array))\n",
    "\n",
    "remove_duplicates([1,2,3,6,4,85,4,85,1,5,1])"
   ]
  },
  {
   "cell_type": "code",
   "execution_count": 69,
   "metadata": {},
   "outputs": [
    {
     "data": {
      "text/plain": [
       "7"
      ]
     },
     "execution_count": 69,
     "metadata": {},
     "output_type": "execute_result"
    }
   ],
   "source": [
    "#remove duplicates in sorted array\n",
    "\n",
    "#brute force approach\n",
    "def remove_duplicates(array):\n",
    "    array = set(array)\n",
    "    return len(list(array))\n",
    "\n",
    "remove_duplicates([1,2,3,6,4,85,4,85,1,5,1])\n",
    "\n",
    "\n",
    "\n",
    "\n",
    "#optimal approach\n",
    "def remove_duplicates_optimal(array):\n",
    "\n",
    "    for i in range(1,len(array)):\n",
    "        for j in range(i):\n",
    "            if array[j] > array[i]:\n",
    "                array[i],array[j] = array[j],array[i]\n",
    "\n",
    "    i = 0\n",
    "\n",
    "    for j in range(1, len(array)):\n",
    "        if array[i] != array[j]:\n",
    "            array[i+1] = array[j]\n",
    "            i += 1\n",
    "\n",
    "    return i + 1\n",
    "\n",
    "\n",
    "remove_duplicates_optimal([1,2,3,6,4,85,4,85,1,5,1])"
   ]
  },
  {
   "cell_type": "code",
   "execution_count": 9,
   "metadata": {},
   "outputs": [],
   "source": [
    "#left rotate the array by one place\n",
    "\n",
    "#brute force approach\n",
    "def left_rotate_brute(array):\n",
    "    temp = array[0]\n",
    "    for i in range(1,len(array)):\n",
    "        array[i-1] = array[i]\n",
    "    array[-1] = temp\n",
    "    return array\n"
   ]
  },
  {
   "cell_type": "code",
   "execution_count": 39,
   "metadata": {},
   "outputs": [
    {
     "name": "stdout",
     "output_type": "stream",
     "text": [
      "[2, 1] [5, 4, 3] [2, 1, 5, 4, 3]\n"
     ]
    },
    {
     "data": {
      "text/plain": [
       "[3, 4, 5, 1, 2]"
      ]
     },
     "execution_count": 39,
     "metadata": {},
     "output_type": "execute_result"
    }
   ],
   "source": [
    "#left rotate array by d places\n",
    "\n",
    "#brute force approach\n",
    "''' time complecity of this approach is O(d)+O(n-d)+O(d) = O(n+d) where d is number of places O(d) = time complexity of transversing the main loop, O(n-d) is the time complexity to shift the array and O(d) is the time complexity to replace the element from temp to main\n",
    "    extra space complexity will be O(d)'''\n",
    "def left_rotate_place_brute(array, d):\n",
    "\n",
    "    d %= len(array)\n",
    "\n",
    "\n",
    "    temp = array[:d]\n",
    "    for i in range(d, len(array)):\n",
    "        array[i-d]= array[i]\n",
    "\n",
    "    for i in range(len(array)-d, len(array)):  \n",
    "        array[i] = temp[i-(len(array)-d)]\n",
    "\n",
    "    return array\n",
    "\n",
    "left_rotate_place_brute([1,2,3,4,5],2)\n",
    "\n",
    "\n",
    "\n",
    "#optimal\n",
    "''' we will reduce the space complexiy from O(d) to O(1) but space complectiy will increase to O(2n) \n",
    "    Approach is to reverse the array from 0 to d element, then reverse the array from d+1 to last element, then reverese the final array'''\n",
    "\n",
    "def left_rotate_place_optimal(array, d):\n",
    "    d %= len(array)\n",
    "\n",
    "    reversed_array_1 = array[d-1::-1]\n",
    "    reversed_array_2 = array[len(array):d-1:-1]\n",
    "    reversed_array_3 = reversed_array_1 + reversed_array_2\n",
    "    print(reversed_array_1, reversed_array_2, reversed_array_3)\n",
    "\n",
    "    return reversed_array_3[::-1]\n",
    "\n",
    "left_rotate_place_optimal([1,2,3,4,5],2)\n"
   ]
  },
  {
   "cell_type": "code",
   "execution_count": 46,
   "metadata": {},
   "outputs": [
    {
     "data": {
      "text/plain": [
       "[-1, -2, -3, 1, 2, 5]"
      ]
     },
     "execution_count": 46,
     "metadata": {},
     "output_type": "execute_result"
    }
   ],
   "source": [
    "#move all the negative numbers to one side of the array\n",
    "\n",
    "def move_all_negative(array):\n",
    "    j = 0\n",
    "    for i in range(len(array)):\n",
    "        if array[i] < 0:\n",
    "            array[i],array[j] = array[j],array[i]\n",
    "            j += 1\n",
    "    return array\n",
    "\n",
    "move_all_negative([1,2,5,-1,-2,-3])"
   ]
  },
  {
   "cell_type": "code",
   "execution_count": 54,
   "metadata": {},
   "outputs": [
    {
     "data": {
      "text/plain": [
       "[1, 2, 5, 3, 0, 0, 0]"
      ]
     },
     "execution_count": 54,
     "metadata": {},
     "output_type": "execute_result"
    }
   ],
   "source": [
    "#move all zero to one side of the array\n",
    "\n",
    "#brute force:\n",
    "'''Take all the non zero number and store in temporary array, then add these non zero numbers to original array from front, then replace the remaning elements of original array with zeroes from front\n",
    "    Time complexity is  O(n) + O(x) + O(n-x) where x is the number of zeros and space complexity is O(n)'''\n",
    "\n",
    "def move_all_zero_brute(array):\n",
    "\n",
    "    temp = []\n",
    "    for i in range(len(array)):   #time complexity is O(n)\n",
    "        if array[i] != 0:\n",
    "            temp.append(array[i])\n",
    "    \n",
    "    for i in range(len(temp)):   #time complexity is O(x)\n",
    "        array[i] = temp[i]\n",
    "    \n",
    "    for i in range(len(temp),len(array)):  #time complexity is O(n-x)\n",
    "        array[i] = 0\n",
    "\n",
    "    return array\n",
    "\n",
    "move_all_zero_brute([1,2,5,0,0,0,3])\n",
    "\n",
    "\n",
    "\n",
    "\n",
    "\n",
    "\n",
    "#optimal force: always remember to traverse the all the arrays from one single direction\n",
    "def move_all_zero(array):\n",
    "    j = len(array)-1\n",
    "    for i in range(len(array)-1,-1,-1):\n",
    "        if array[i] == 0:\n",
    "            array[i],array[j] = array[j],array[i]\n",
    "            j -= 1\n",
    "\n",
    "    return array\n",
    "\n",
    "move_all_zero([1,2,5,0,0,0,3])"
   ]
  },
  {
   "cell_type": "code",
   "execution_count": 55,
   "metadata": {},
   "outputs": [
    {
     "data": {
      "text/plain": [
       "4"
      ]
     },
     "execution_count": 55,
     "metadata": {},
     "output_type": "execute_result"
    }
   ],
   "source": [
    "#linear search\n",
    "\n",
    "def linear_search(array, number):\n",
    "    for i in range(len(array)):\n",
    "        if array[i] == number:\n",
    "            return i\n",
    "    return -1  #return -1 means something went wrong or that a particular value or item was not found.\n",
    "\n",
    "linear_search([1,2,3,4,5],5)"
   ]
  },
  {
   "cell_type": "code",
   "execution_count": 73,
   "metadata": {},
   "outputs": [
    {
     "data": {
      "text/plain": [
       "[1, 2, 3, 4, 5, 6, 7, 9, 10]"
      ]
     },
     "execution_count": 73,
     "metadata": {},
     "output_type": "execute_result"
    }
   ],
   "source": [
    "#union of two sorted arrays\n",
    "\n",
    "#brute force \n",
    "def union_of_arrays(array_1, array_2):\n",
    "\n",
    "    array = array_1 + array_2\n",
    "    array = set(array) \n",
    "    \n",
    "    return list(array)\n",
    "\n",
    "union_of_arrays([1,2,3,4,5],[6,6,6,9,10])\n",
    "\n",
    "\n",
    "#optimal solution\n",
    "def union_of_arrays_optimal(array_1, array_2):\n",
    "\n",
    "    union_arr = []\n",
    "    i = j = 0\n",
    "\n",
    "    while i < len(array_1) and j < len(array_2):\n",
    "        if array_1[i] <= array_2[j]:\n",
    "            if array_1[i] not in union_arr:\n",
    "                union_arr.append(array_1[i])\n",
    "            i += 1\n",
    "\n",
    "        else:\n",
    "            if array_2[j] not in union_arr:\n",
    "                union_arr.append(array_2[j])\n",
    "            j += 1\n",
    "\n",
    "    while i < len(array_1):\n",
    "        if array_1[i] not in union_arr:\n",
    "            union_arr.append(array_1[i])\n",
    "        i += 1\n",
    "\n",
    "    while j < len(array_2):\n",
    "        if array_2[j] not in union_arr:\n",
    "            union_arr.append(array_2[j])\n",
    "        j += 1\n",
    "\n",
    "        \n",
    "\n",
    "    return union_arr\n",
    "\n",
    "union_of_arrays_optimal([1,1,2,3,4,5,6,7],[6,6,6,9,10])"
   ]
  },
  {
   "cell_type": "code",
   "execution_count": null,
   "metadata": {},
   "outputs": [],
   "source": [
    "#intersection of two sorted arrays\n",
    "\n",
    "#brute force\n",
    "''' Time complexity is O(n1*n2) and Space complextiy of O(n2) thats why it is better to have visit array for smaller array'''\n",
    "def intersection_of_arrays_brute(array_1, array_2):\n",
    "    \n",
    "    inter = []\n",
    "    visit = [0]*len(array_2)  #this array will ensure that we donot count a single element twice. For example there is a 2 repetition of 6 in array 1, and one repetiton in array 2, 6 will counted only once\n",
    "\n",
    "    for i in range(len(array_1)):\n",
    "        for j in range(len(array_2)):\n",
    "            if array_1[i] == array_2[j] and visit[j]==0:\n",
    "                inter.append(array_1[i])\n",
    "                visit[j] = 1\n",
    "                break\n",
    "\n",
    "    return inter\n",
    "\n",
    "intersection_of_arrays_brute([1,1,2,3,4,5,6,7,9,10],[1,6,6,6,9,10])"
   ]
  },
  {
   "cell_type": "code",
   "execution_count": 85,
   "metadata": {},
   "outputs": [
    {
     "name": "stdout",
     "output_type": "stream",
     "text": [
      "[0, 0, 0, 0, 0, 0, 0, 0, 0, 0]\n"
     ]
    },
    {
     "data": {
      "text/plain": [
       "[1, 1, 6, 9, 10]"
      ]
     },
     "execution_count": 85,
     "metadata": {},
     "output_type": "execute_result"
    }
   ],
   "source": [
    "def intersection_of_arrays_brute(array_1, array_2):\n",
    "    \n",
    "    inter = []\n",
    "    visit = [0]*len(array_1)\n",
    "    print(visit)\n",
    "\n",
    "    for i in range(len(array_1)):\n",
    "        if array_1[i] in array_2 and visit[i]==0:\n",
    "            inter.append(array_1[i])\n",
    "            visit[i] = 1\n",
    "\n",
    "    return inter\n",
    "\n",
    "intersection_of_arrays_brute([1,1,2,3,4,5,6,7,9,10],[1,6,6,6,9,10])"
   ]
  },
  {
   "cell_type": "code",
   "execution_count": 86,
   "metadata": {},
   "outputs": [
    {
     "data": {
      "text/plain": [
       "[1, 6, 9, 10]"
      ]
     },
     "execution_count": 86,
     "metadata": {},
     "output_type": "execute_result"
    }
   ],
   "source": []
  }
 ],
 "metadata": {
  "kernelspec": {
   "display_name": "base",
   "language": "python",
   "name": "python3"
  },
  "language_info": {
   "codemirror_mode": {
    "name": "ipython",
    "version": 3
   },
   "file_extension": ".py",
   "mimetype": "text/x-python",
   "name": "python",
   "nbconvert_exporter": "python",
   "pygments_lexer": "ipython3",
   "version": "3.11.5"
  }
 },
 "nbformat": 4,
 "nbformat_minor": 2
}
