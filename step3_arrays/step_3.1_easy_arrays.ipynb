{
 "cells": [
  {
   "cell_type": "code",
   "execution_count": 21,
   "metadata": {},
   "outputs": [],
   "source": [
    "#find the maximum of array\n",
    "\n",
    "#brute force approach\n",
    "def maximum(array):\n",
    "    \"Idea is to sort the array then find the maximum\"\n",
    "    for i in range(1,len(array)):\n",
    "        for j in range(i):\n",
    "            if array[j] > array[i]:\n",
    "                array[i],array[j] = array[j],array[i]\n",
    "    return array[-1]\n",
    "\n",
    "\n",
    "maximum([1,2,3,4,5,1])\n",
    "\n",
    "\n",
    "#optimal approach\n",
    "\n",
    "def maximum_optimal(array):\n",
    "    largest = array[0]\n",
    "    for i in range(1,len(array)):\n",
    "        largest = max(largest,array[i])\n",
    "    return largest\n",
    "\n",
    "maximum_optimal([1,2,3,4,6,1])"
   ]
  },
  {
   "cell_type": "code",
   "execution_count": 39,
   "metadata": {},
   "outputs": [
    {
     "ename": "IndentationError",
     "evalue": "expected an indented block after function definition on line 4 (1051253857.py, line 21)",
     "output_type": "error",
     "traceback": [
      "\u001b[0;36m  Cell \u001b[0;32mIn[39], line 21\u001b[0;36m\u001b[0m\n\u001b[0;31m    def second_largest_element_better(array):\u001b[0m\n\u001b[0m    ^\u001b[0m\n\u001b[0;31mIndentationError\u001b[0m\u001b[0;31m:\u001b[0m expected an indented block after function definition on line 4\n"
     ]
    }
   ],
   "source": [
    "#find second largest element\n",
    "\n",
    "# #brute force approach\n",
    "# def second_largest_element_bfa(array):\n",
    "#     for i in range(1,len(array)):\n",
    "#         for j in range(i):\n",
    "#             if array[j] > array[i]:\n",
    "#                 array[i],array[j] = array[j],array[i]\n",
    "    \n",
    "            \n",
    "#     for i in range(len(array)-2,-1,-1):\n",
    "#         if array[i] != array[-1]:\n",
    "#             element = array[i]\n",
    "#             break\n",
    "#     return element\n",
    "    \n",
    "# second_largest_element_bfa([3,2,1,4,6,1,5,7,7,9,9,2,3,6])\n",
    "\n",
    "\n",
    "#better approach\n",
    "def second_largest_element_better(array):\n",
    "    \n",
    "    for i in range(1,len(array)):\n",
    "        for j in range(i):\n",
    "            if array[j] > array[i]:\n",
    "                array[i],array[j] = array[j],array[i]\n",
    "    \n",
    "            \n",
    "    for i in range(len(array)-2,-1,-1):\n",
    "        if array[i] != array[-1]:\n",
    "            element = array[i]\n",
    "            break\n",
    "    return element\n",
    "\n",
    "second_largest_element_better([3,2,1,4,6,1,5,7,7,9,9,2,3,6])\n",
    "\n",
    "\n",
    "#optimal approach\n",
    "# def second_largest_element_optimal(array):\n",
    "#     largest = array[0]\n",
    "#     second_largest = array[0]\n",
    "#     for i in range(1,len(array)):\n",
    "#         if array[i] > largest:\n",
    "#             second_largest = largest\n",
    "#             largest = array[i]\n",
    "#     return second_largest\n",
    "\n",
    "# second_largest_element_optimal([3,2,1,4,6,1,5,7,7,9,9,2,3,6])\n",
    "\n"
   ]
  }
 ],
 "metadata": {
  "kernelspec": {
   "display_name": "base",
   "language": "python",
   "name": "python3"
  },
  "language_info": {
   "codemirror_mode": {
    "name": "ipython",
    "version": 3
   },
   "file_extension": ".py",
   "mimetype": "text/x-python",
   "name": "python",
   "nbconvert_exporter": "python",
   "pygments_lexer": "ipython3",
   "version": "3.11.5"
  }
 },
 "nbformat": 4,
 "nbformat_minor": 2
}
