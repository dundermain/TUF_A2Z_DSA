{
 "cells": [
  {
   "cell_type": "code",
   "execution_count": 21,
   "metadata": {},
   "outputs": [],
   "source": [
    "#find the maximum of array\n",
    "\n",
    "\n",
    "#brute force approach\n",
    "def maximum(array):\n",
    "    \"Idea is to sort the array then find the maximum\"\n",
    "    for i in range(1,len(array)):\n",
    "        for j in range(i):\n",
    "            if array[j] > array[i]:\n",
    "                array[i],array[j] = array[j],array[i]\n",
    "    return array[-1]\n",
    "\n",
    "\n",
    "maximum([1,2,3,4,5,1])\n",
    "\n",
    "\n",
    "#optimal approach\n",
    "\n",
    "def maximum_optimal(array):\n",
    "    largest = array[0]\n",
    "    for i in range(1,len(array)):\n",
    "        largest = max(largest,array[i])\n",
    "    return largest\n",
    "\n",
    "maximum_optimal([1,2,3,4,6,1])"
   ]
  }
 ],
 "metadata": {
  "kernelspec": {
   "display_name": "base",
   "language": "python",
   "name": "python3"
  },
  "language_info": {
   "codemirror_mode": {
    "name": "ipython",
    "version": 3
   },
   "file_extension": ".py",
   "mimetype": "text/x-python",
   "name": "python",
   "nbconvert_exporter": "python",
   "pygments_lexer": "ipython3",
   "version": "3.11.5"
  }
 },
 "nbformat": 4,
 "nbformat_minor": 2
}
