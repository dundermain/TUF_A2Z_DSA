{
 "cells": [
  {
   "cell_type": "code",
   "execution_count": 21,
   "metadata": {},
   "outputs": [],
   "source": [
    "#find the maximum of array\n",
    "\n",
    "#brute force approach\n",
    "def maximum(array):\n",
    "    \"Idea is to sort the array then find the maximum\"\n",
    "    for i in range(1,len(array)):\n",
    "        for j in range(i):\n",
    "            if array[j] > array[i]:\n",
    "                array[i],array[j] = array[j],array[i]\n",
    "    return array[-1]\n",
    "\n",
    "\n",
    "maximum([1,2,3,4,5,1])\n",
    "\n",
    "\n",
    "#optimal approach\n",
    "\n",
    "def maximum_optimal(array):\n",
    "    largest = array[0]\n",
    "    for i in range(1,len(array)):\n",
    "        largest = max(largest,array[i])\n",
    "    return largest\n",
    "\n",
    "maximum_optimal([1,2,3,4,6,1])"
   ]
  },
  {
   "cell_type": "code",
   "execution_count": 48,
   "metadata": {},
   "outputs": [
    {
     "data": {
      "text/plain": [
       "9"
      ]
     },
     "execution_count": 48,
     "metadata": {},
     "output_type": "execute_result"
    }
   ],
   "source": [
    "#find second largest element\n",
    "\n",
    "#brute force approach\n",
    "def second_largest_element_bfa(array):\n",
    "    for i in range(1,len(array)):\n",
    "        for j in range(i):\n",
    "            if array[j] > array[i]:\n",
    "                array[i],array[j] = array[j],array[i]\n",
    "    \n",
    "            \n",
    "    for i in range(len(array)-2,-1,-1):\n",
    "        if array[i] != array[-1]:\n",
    "            element = array[i]\n",
    "            break\n",
    "    return element\n",
    "    \n",
    "second_largest_element_bfa([3,2,1,4,6,1,5,7,7,9,9,2,3,6])\n",
    "\n",
    "\n",
    "\n",
    "\n",
    "#better approach\n",
    "def second_largest_element_better(array):\n",
    "    \n",
    "    largest = array[0]\n",
    "    second_largest = array[0]\n",
    "    for i in range(1,len(array)):\n",
    "        if array[i] > largest:\n",
    "            largest = array[i]\n",
    "        \n",
    "    for i in range(1,len(array)):\n",
    "        if array[i] != largest and array[i] > second_largest:\n",
    "            second_largest = array[i]\n",
    "    return second_largest\n",
    "\n",
    "\n",
    "second_largest_element_better([3,2,1,4,6,1,5,7,7,9,9,2,3,6,10])\n",
    "\n",
    "\n",
    "\n",
    "\n",
    "#optimal approach\n",
    "def second_largest_element_optimal(array):\n",
    "    largest = array[0]\n",
    "    second_largest = array[0]\n",
    "    for i in range(1,len(array)):\n",
    "        if array[i] > largest:\n",
    "            second_largest = largest\n",
    "            largest = array[i]\n",
    "    return second_largest\n",
    "\n",
    "second_largest_element_optimal([3,2,1,4,6,1,5,7,7,9,9,2,3,6])\n",
    "\n"
   ]
  },
  {
   "cell_type": "code",
   "execution_count": 57,
   "metadata": {},
   "outputs": [
    {
     "name": "stdout",
     "output_type": "stream",
     "text": [
      "array is not sorted\n"
     ]
    }
   ],
   "source": [
    "#check if the array is sorted correctly\n",
    "\n",
    "def sorted_array_check(array):\n",
    "    for i in range(1,len(array)):\n",
    "        if array[i - 1] <= array[i]:\n",
    "            continue\n",
    "        print(\"array is not sorted\")\n",
    "        break\n",
    "\n",
    "    \n",
    "sorted_array_check([1,2,3,4,5,6,7,8,9,10,1])\n"
   ]
  },
  {
   "cell_type": "code",
   "execution_count": 66,
   "metadata": {},
   "outputs": [
    {
     "data": {
      "text/plain": [
       "11"
      ]
     },
     "execution_count": 66,
     "metadata": {},
     "output_type": "execute_result"
    }
   ],
   "source": [
    "#remove duplicates in array\n",
    "\n",
    "#brute force approach\n",
    "def remove_duplicates(array):\n",
    "    array = set(array)\n",
    "    return len(list(array))\n",
    "\n",
    "remove_duplicates([1,2,3,6,4,85,4,85,1,5,1])"
   ]
  },
  {
   "cell_type": "code",
   "execution_count": 69,
   "metadata": {},
   "outputs": [
    {
     "data": {
      "text/plain": [
       "7"
      ]
     },
     "execution_count": 69,
     "metadata": {},
     "output_type": "execute_result"
    }
   ],
   "source": [
    "#remove duplicates in sorted array\n",
    "\n",
    "#brute force approach\n",
    "def remove_duplicates(array):\n",
    "    array = set(array)\n",
    "    return len(list(array))\n",
    "\n",
    "remove_duplicates([1,2,3,6,4,85,4,85,1,5,1])\n",
    "\n",
    "\n",
    "\n",
    "\n",
    "#optimal approach\n",
    "def remove_duplicates_optimal(array):\n",
    "\n",
    "    for i in range(1,len(array)):\n",
    "        for j in range(i):\n",
    "            if array[j] > array[i]:\n",
    "                array[i],array[j] = array[j],array[i]\n",
    "\n",
    "    i = 0\n",
    "\n",
    "    for j in range(1, len(array)):\n",
    "        if array[i] != array[j]:\n",
    "            array[i+1] = array[j]\n",
    "            i += 1\n",
    "\n",
    "    return i + 1\n",
    "\n",
    "\n",
    "remove_duplicates_optimal([1,2,3,6,4,85,4,85,1,5,1])"
   ]
  },
  {
   "cell_type": "code",
   "execution_count": 9,
   "metadata": {},
   "outputs": [],
   "source": [
    "#left rotate the array by one place\n",
    "\n",
    "#brute force approach\n",
    "def left_rotate_brute(array):\n",
    "    temp = array[0]\n",
    "    for i in range(1,len(array)):\n",
    "        array[i-1] = array[i]\n",
    "    array[-1] = temp\n",
    "    return array\n"
   ]
  },
  {
   "cell_type": "code",
   "execution_count": 21,
   "metadata": {},
   "outputs": [
    {
     "ename": "TypeError",
     "evalue": "'list' object is not callable",
     "output_type": "error",
     "traceback": [
      "\u001b[0;31m---------------------------------------------------------------------------\u001b[0m",
      "\u001b[0;31mTypeError\u001b[0m                                 Traceback (most recent call last)",
      "Cell \u001b[0;32mIn[21], line 25\u001b[0m\n\u001b[1;32m     14\u001b[0m         array[i] \u001b[38;5;241m=\u001b[39m temp()\n\u001b[1;32m     23\u001b[0m     \u001b[38;5;28;01mreturn\u001b[39;00m array\n\u001b[0;32m---> 25\u001b[0m left_rotate_place_brute([\u001b[38;5;241m1\u001b[39m,\u001b[38;5;241m2\u001b[39m,\u001b[38;5;241m3\u001b[39m,\u001b[38;5;241m4\u001b[39m,\u001b[38;5;241m5\u001b[39m],\u001b[38;5;241m2\u001b[39m)\n",
      "Cell \u001b[0;32mIn[21], line 14\u001b[0m, in \u001b[0;36mleft_rotate_place_brute\u001b[0;34m(array, n)\u001b[0m\n\u001b[1;32m     12\u001b[0m     array[i\u001b[38;5;241m-\u001b[39mn]\u001b[38;5;241m=\u001b[39m array[i]\n\u001b[1;32m     13\u001b[0m \u001b[38;5;28;01mfor\u001b[39;00m i \u001b[38;5;129;01min\u001b[39;00m \u001b[38;5;28mrange\u001b[39m(\u001b[38;5;28mlen\u001b[39m(array)\u001b[38;5;241m-\u001b[39mn, \u001b[38;5;28mlen\u001b[39m(array)):\n\u001b[0;32m---> 14\u001b[0m     array[i] \u001b[38;5;241m=\u001b[39m temp()\n\u001b[1;32m     23\u001b[0m \u001b[38;5;28;01mreturn\u001b[39;00m array\n",
      "\u001b[0;31mTypeError\u001b[0m: 'list' object is not callable"
     ]
    }
   ],
   "source": [
    "#left rotate array by n places\n",
    "\n",
    "#brute force approach\n",
    "def left_rotate_place_brute(array, n):\n",
    "\n",
    "    n %= len(array)\n",
    "\n",
    "    temp = array[:n]\n",
    "    for i in range(n, len(array)):\n",
    "        array[i-n]= array[i]\n",
    "    for i in range(len(array)-n, len(array)):\n",
    "        array[i] = temp()\n",
    "\n",
    "\n",
    "\n",
    "\n",
    "\n",
    "    \n",
    "    \n",
    "\n",
    "    return array\n",
    "\n",
    "left_rotate_place_brute([1,2,3,4,5],2)\n",
    "\n",
    "\n"
   ]
  },
  {
   "cell_type": "code",
   "execution_count": 18,
   "metadata": {},
   "outputs": [
    {
     "name": "stdout",
     "output_type": "stream",
     "text": [
      "[0, 1, 2]\n"
     ]
    }
   ],
   "source": [
    "rr = [0,1,2,3,4,5]\n",
    "\n",
    "print(rr[:3])\n"
   ]
  }
 ],
 "metadata": {
  "kernelspec": {
   "display_name": "base",
   "language": "python",
   "name": "python3"
  },
  "language_info": {
   "codemirror_mode": {
    "name": "ipython",
    "version": 3
   },
   "file_extension": ".py",
   "mimetype": "text/x-python",
   "name": "python",
   "nbconvert_exporter": "python",
   "pygments_lexer": "ipython3",
   "version": "3.11.5"
  }
 },
 "nbformat": 4,
 "nbformat_minor": 2
}
