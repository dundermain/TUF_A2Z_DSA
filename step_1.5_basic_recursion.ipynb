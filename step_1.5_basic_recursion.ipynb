{
 "cells": [
  {
   "cell_type": "markdown",
   "metadata": {},
   "source": [
    "Basic recursion has thee conditions:\n",
    "1. basic start condition\n",
    "2. recursion condition\n",
    "3. basic stop or base condition to stop the recursion"
   ]
  },
  {
   "cell_type": "code",
   "execution_count": 7,
   "metadata": {},
   "outputs": [
    {
     "name": "stdout",
     "output_type": "stream",
     "text": [
      "hello\n",
      "hello\n",
      "hello\n",
      "hello\n",
      "hello\n"
     ]
    }
   ],
   "source": [
    "#print name n times\n",
    "\n",
    "def print_n_times(name, n):\n",
    "    if n <= 0:\n",
    "        return \n",
    "    print(name)\n",
    "    print_n_times(name, n-1)\n",
    "\n",
    "print_n_times(\"hello\", 5)"
   ]
  },
  {
   "cell_type": "code",
   "execution_count": 9,
   "metadata": {},
   "outputs": [
    {
     "name": "stdout",
     "output_type": "stream",
     "text": [
      "1\n",
      "2\n",
      "3\n",
      "4\n",
      "5\n",
      "6\n",
      "7\n",
      "8\n",
      "9\n",
      "10\n"
     ]
    }
   ],
   "source": [
    "# print linearly from 1 to n\n",
    "\n",
    "def print_till_n(n):\n",
    "    if n <= 0:\n",
    "        return\n",
    "    print_till_n(n-1)\n",
    "    print(n)\n",
    "\n",
    "print_till_n(10)"
   ]
  },
  {
   "cell_type": "code",
   "execution_count": 12,
   "metadata": {},
   "outputs": [
    {
     "name": "stdout",
     "output_type": "stream",
     "text": [
      "10\n",
      "9\n",
      "8\n",
      "7\n",
      "6\n",
      "5\n",
      "4\n",
      "3\n",
      "2\n",
      "1\n"
     ]
    }
   ],
   "source": [
    "# print linearly from n to 1\n",
    "\n",
    "def print_till_n(n):\n",
    "    if n <= 0:\n",
    "        return\n",
    "    print(n)\n",
    "    print_till_n(n-1)\n",
    "    \n",
    "\n",
    "print_till_n(10)"
   ]
  },
  {
   "cell_type": "code",
   "execution_count": 15,
   "metadata": {},
   "outputs": [
    {
     "name": "stdout",
     "output_type": "stream",
     "text": [
      "55\n",
      "55\n"
     ]
    }
   ],
   "source": [
    "#summation of first n numbers\n",
    "\n",
    "def summation_n(n):\n",
    "    if n <= 0:\n",
    "        return 0\n",
    "    return n + summation_n(n-1)\n",
    "\n",
    "print(summation_n(10))\n",
    "\n",
    "\n",
    "#parameterised method\n",
    "def summation_n_parametrised(n, sum=0):\n",
    "    if n <= 0:\n",
    "        return sum\n",
    "    return summation_n_parametrised(n-1, sum+n)\n",
    "\n",
    "print(summation_n_parametrised(10))"
   ]
  }
 ],
 "metadata": {
  "kernelspec": {
   "display_name": "base",
   "language": "python",
   "name": "python3"
  },
  "language_info": {
   "codemirror_mode": {
    "name": "ipython",
    "version": 3
   },
   "file_extension": ".py",
   "mimetype": "text/x-python",
   "name": "python",
   "nbconvert_exporter": "python",
   "pygments_lexer": "ipython3",
   "version": "3.11.5"
  }
 },
 "nbformat": 4,
 "nbformat_minor": 2
}
