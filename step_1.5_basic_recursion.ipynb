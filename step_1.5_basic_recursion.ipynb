{
 "cells": [
  {
   "cell_type": "code",
   "execution_count": null,
   "metadata": {},
   "outputs": [],
   "source": [
    "''' basic recursion has thee conditions:\n",
    "1. basic start condition\n",
    "2. recursion condition\n",
    "3. basic stop condition '''"
   ]
  }
 ],
 "metadata": {
  "language_info": {
   "name": "python"
  }
 },
 "nbformat": 4,
 "nbformat_minor": 2
}
