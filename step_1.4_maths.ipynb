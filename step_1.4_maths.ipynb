{
 "cells": [
  {
   "cell_type": "code",
   "execution_count": 25,
   "metadata": {},
   "outputs": [
    {
     "name": "stdout",
     "output_type": "stream",
     "text": [
      "54321\n"
     ]
    }
   ],
   "source": [
    "def reverse_num(n):\n",
    "\n",
    "    rev_num = \"\"\n",
    "    while n > 0:\n",
    "        rev_num += str(n%10)\n",
    "        n = int(n/10)\n",
    "        #print(n)\n",
    "    print(rev_num)\n",
    "\n",
    "    \n",
    "reverse_num(12345)"
   ]
  },
  {
   "cell_type": "code",
   "execution_count": 33,
   "metadata": {},
   "outputs": [
    {
     "name": "stdout",
     "output_type": "stream",
     "text": [
      "5\n"
     ]
    }
   ],
   "source": [
    "#print the number of digits\n",
    "\n",
    "\n",
    "def num_of_digits(n):\n",
    "    num = 0\n",
    "    \n",
    "    while n > 0:\n",
    "        num += 1\n",
    "        n = int(n/10)\n",
    "    \n",
    "    print(num)\n",
    "\n",
    "\n",
    "num_of_digits(12345)\n"
   ]
  },
  {
   "cell_type": "code",
   "execution_count": 78,
   "metadata": {},
   "outputs": [
    {
     "name": "stdout",
     "output_type": "stream",
     "text": [
      "The number is pallindrome\n"
     ]
    }
   ],
   "source": [
    "def check_pallindrome(n):\n",
    "\n",
    "    value = all(a==b for a,b in zip(str(n), str(n)[::-1]))\n",
    "    print(\"The number is pallindrome\") if value else print(\"The number is not palindrome\")\n",
    "\n",
    "check_pallindrome(123321)"
   ]
  },
  {
   "cell_type": "code",
   "execution_count": null,
   "metadata": {},
   "outputs": [],
   "source": [
    "#armstrong numbers\n",
    "\n"
   ]
  }
 ],
 "metadata": {
  "kernelspec": {
   "display_name": "base",
   "language": "python",
   "name": "python3"
  },
  "language_info": {
   "codemirror_mode": {
    "name": "ipython",
    "version": 3
   },
   "file_extension": ".py",
   "mimetype": "text/x-python",
   "name": "python",
   "nbconvert_exporter": "python",
   "pygments_lexer": "ipython3",
   "version": "3.11.5"
  }
 },
 "nbformat": 4,
 "nbformat_minor": 2
}
