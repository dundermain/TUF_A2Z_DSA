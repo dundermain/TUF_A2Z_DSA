{
 "cells": [
  {
   "cell_type": "markdown",
   "metadata": {},
   "source": [
    "Merge sort: Divide and merge algorithm\n",
    "Approach:\n",
    "\n",
    "    We will be creating 2 functions mergeSort() and merge().\n",
    "    mergeSort(arr[], low, high):\n",
    "        1. In order to implement merge sort we need to first divide the given array into two halves. Now, if we carefully observe, we need not divide the array and create a separate array, but we will divide the array’s range into halves every time. For example, the given range of the array is 0 to 4(0-based indexing). Now on the first go, we will divide the range into half like (0+4)/2 = 2. So, the range of the left half will be 0 to 2 and for the right half, the range will be 3 to 4. Similarly, if the given range is low to high, the range for the two halves will be low to mid and mid+1 to high, where mid = (low+high)/2. This process will continue until the range size becomes.\n",
    "        2. So, in mergeSort(), we will divide the array around the middle index(rather than creating a separate array) by making the recursive call :\n",
    "            1. mergeSort(arr,low,mid)   [Left half of the array]\n",
    "            2. mergeSort(arr,mid+1,high)  [Right half of the array]\n",
    "        where low = leftmost index of the array, high = rightmost index of the array, and mid = middle index of the array.\n",
    "        3. Now, in order to complete the recursive function, we need to write the base case as well. We know from step 2.1, that our recursion ends when the array has only 1 element left. So, the leftmost index, low, and the rightmost index high become the same as they are pointing to a single element.\n",
    "        Base Case: if(low >= high) return;"
   ]
  },
  {
   "cell_type": "code",
   "execution_count": 5,
   "metadata": {},
   "outputs": [],
   "source": [
    "def merge_sort(arr):\n",
    "    \"\"\"\n",
    "    Sorts an array using merge sort algorithm.\n",
    "\n",
    "    Args:\n",
    "        arr: The array to be sorted.\n",
    "\n",
    "    Returns:\n",
    "        The sorted array.\n",
    "    \"\"\"\n",
    "\n",
    "    if len(arr) <= 1:\n",
    "        return arr  # Base case: arrays with 0 or 1 element are already sorted\n",
    "\n",
    "    mid = len(arr) // 2\n",
    "    left = merge_sort(arr[:mid])  # Recursively sort the left half\n",
    "    right = merge_sort(arr[mid:])  # Recursively sort the right half\n",
    "\n",
    "    return merge(left, right)  # Merge the sorted halves\n",
    "\n",
    "def merge(left, right):\n",
    "    \"\"\"\n",
    "    Merges two sorted arrays into a single sorted array.\n",
    "\n",
    "    Args:\n",
    "        left: The first sorted array.\n",
    "        right: The second sorted array.\n",
    "\n",
    "    Returns:\n",
    "        The merged sorted array.\n",
    "    \"\"\"\n",
    "\n",
    "    result = []\n",
    "    i = j = 0\n",
    "\n",
    "    while i < len(left) and j < len(right):\n",
    "        print(len(left), len(right))\n",
    "        if left[i] <= right[j]:\n",
    "            result.append(left[i])\n",
    "            i += 1\n",
    "        else:\n",
    "            result.append(right[j])\n",
    "            j += 1\n",
    "\n",
    "\n",
    "    print(\"executing this\")\n",
    "    result += left[i:]  # Append any remaining elements from the left array\n",
    "    result += right[j:]  # Append any remaining elements from the right array\n",
    "\n",
    "    return result\n"
   ]
  },
  {
   "cell_type": "code",
   "execution_count": 6,
   "metadata": {},
   "outputs": [
    {
     "name": "stdout",
     "output_type": "stream",
     "text": [
      "1 1\n",
      "executing this\n",
      "1 1\n",
      "executing this\n",
      "2 2\n",
      "2 2\n",
      "executing this\n",
      "1 1\n",
      "executing this\n",
      "1 1\n",
      "executing this\n",
      "2 2\n",
      "2 2\n",
      "executing this\n",
      "4 4\n",
      "4 4\n",
      "4 4\n",
      "4 4\n",
      "4 4\n",
      "executing this\n",
      "1 1\n",
      "executing this\n",
      "1 1\n",
      "executing this\n",
      "2 2\n",
      "2 2\n",
      "2 2\n",
      "executing this\n",
      "1 1\n",
      "executing this\n",
      "1 1\n",
      "executing this\n",
      "1 2\n",
      "executing this\n",
      "2 3\n",
      "2 3\n",
      "2 3\n",
      "executing this\n",
      "4 5\n",
      "4 5\n",
      "4 5\n",
      "4 5\n",
      "4 5\n",
      "4 5\n",
      "executing this\n",
      "8 9\n",
      "8 9\n",
      "8 9\n",
      "8 9\n",
      "8 9\n",
      "8 9\n",
      "8 9\n",
      "8 9\n",
      "8 9\n",
      "8 9\n",
      "8 9\n",
      "8 9\n",
      "8 9\n",
      "8 9\n",
      "8 9\n",
      "executing this\n"
     ]
    },
    {
     "data": {
      "text/plain": [
       "[1, 2, 2, 3, 3, 4, 4, 5, 5, 6, 6, 6, 7, 8, 9, 41, 87]"
      ]
     },
     "execution_count": 6,
     "metadata": {},
     "output_type": "execute_result"
    }
   ],
   "source": [
    "arr = [1,2,3,5,9,8,7,4,6,3,4,6,41,87,2,6,5]\n",
    "merge_sort(arr)"
   ]
  }
 ],
 "metadata": {
  "kernelspec": {
   "display_name": "base",
   "language": "python",
   "name": "python3"
  },
  "language_info": {
   "codemirror_mode": {
    "name": "ipython",
    "version": 3
   },
   "file_extension": ".py",
   "mimetype": "text/x-python",
   "name": "python",
   "nbconvert_exporter": "python",
   "pygments_lexer": "ipython3",
   "version": "3.11.5"
  }
 },
 "nbformat": 4,
 "nbformat_minor": 2
}
