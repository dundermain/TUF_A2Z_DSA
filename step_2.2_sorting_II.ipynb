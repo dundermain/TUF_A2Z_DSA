{
 "cells": [
  {
   "cell_type": "markdown",
   "metadata": {},
   "source": [
    "Merge sort: Divide and merge algorithm\n",
    "Approach:\n",
    "\n",
    "    We will be creating 2 functions mergeSort() and merge().\n",
    "    mergeSort(arr[], low, high):\n",
    "        1. In order to implement merge sort we need to first divide the given array into two halves. Now, if we carefully observe, we need not divide the array and create a separate array, but we will divide the array’s range into halves every time. For example, the given range of the array is 0 to 4(0-based indexing). Now on the first go, we will divide the range into half like (0+4)/2 = 2. So, the range of the left half will be 0 to 2 and for the right half, the range will be 3 to 4. Similarly, if the given range is low to high, the range for the two halves will be low to mid and mid+1 to high, where mid = (low+high)/2. This process will continue until the range size becomes.\n",
    "        2. So, in mergeSort(), we will divide the array around the middle index(rather than creating a separate array) by making the recursive call :\n",
    "            1. mergeSort(arr,low,mid)   [Left half of the array]\n",
    "            2. mergeSort(arr,mid+1,high)  [Right half of the array]\n",
    "        where low = leftmost index of the array, high = rightmost index of the array, and mid = middle index of the array.\n",
    "        3. Now, in order to complete the recursive function, we need to write the base case as well. We know from step 2.1, that our recursion ends when the array has only 1 element left. So, the leftmost index, low, and the rightmost index high become the same as they are pointing to a single element.\n",
    "        Base Case: if(low >= high) return;"
   ]
  },
  {
   "cell_type": "code",
   "execution_count": 5,
   "metadata": {},
   "outputs": [],
   "source": [
    "def merge_sort(arr):\n",
    "    \"\"\"\n",
    "    Sorts an array using merge sort algorithm.\n",
    "\n",
    "    Args:\n",
    "        arr: The array to be sorted.\n",
    "\n",
    "    Returns:\n",
    "        The sorted array.\n",
    "    \"\"\"\n",
    "\n",
    "    if len(arr) <= 1:\n",
    "        return arr  # Base case: arrays with 0 or 1 element are already sorted\n",
    "\n",
    "    mid = len(arr) // 2\n",
    "    left = merge_sort(arr[:mid])  # Recursively sort the left half\n",
    "    right = merge_sort(arr[mid:])  # Recursively sort the right half\n",
    "\n",
    "    return merge(left, right)  # Merge the sorted halves\n",
    "\n",
    "def merge(left, right):\n",
    "    \"\"\"\n",
    "    Merges two sorted arrays into a single sorted array.\n",
    "\n",
    "    Args:\n",
    "        left: The first sorted array.\n",
    "        right: The second sorted array.\n",
    "\n",
    "    Returns:\n",
    "        The merged sorted array.\n",
    "    \"\"\"\n",
    "\n",
    "    result = []\n",
    "    i = j = 0\n",
    "\n",
    "    while i < len(left) and j < len(right):\n",
    "        print(len(left), len(right))\n",
    "        if left[i] <= right[j]:\n",
    "            result.append(left[i])\n",
    "            i += 1\n",
    "        else:\n",
    "            result.append(right[j])\n",
    "            j += 1\n",
    "\n",
    "\n",
    "    print(\"executing this\")\n",
    "    result += left[i:]  # Append any remaining elements from the left array\n",
    "    result += right[j:]  # Append any remaining elements from the right array\n",
    "\n",
    "    return result\n"
   ]
  },
  {
   "cell_type": "code",
   "execution_count": null,
   "metadata": {},
   "outputs": [],
   "source": [
    "arr = [1,2,3,5,9,8,7,4,6,3,4,6,41,87,2,6,5]\n",
    "merge_sort(arr)"
   ]
  },
  {
   "cell_type": "code",
   "execution_count": 29,
   "metadata": {},
   "outputs": [],
   "source": [
    "#bubble sort using recursion\n",
    "\n",
    "def bubblesort_recursion(arr,n):\n",
    "    \"\"\"Sorts a list using the bubble sort algorithm recursively.\"\"\"\n",
    "\n",
    "\n",
    "    if n == 1:  # Base case: If the list has only one element, it's already sorted\n",
    "        return arr\n",
    "\n",
    "    for i in range(n-1):\n",
    "        if arr[i] > arr[i+1]:\n",
    "            arr[i], arr[i+1] = arr[i+1], arr[i]  # Swap elements if they're in the wrong order\n",
    "\n",
    "    bubblesort_recursion(arr, n-1)  # Recursive call to sort the remaining list\n",
    "    return arr\n",
    "\n"
   ]
  },
  {
   "cell_type": "code",
   "execution_count": 30,
   "metadata": {},
   "outputs": [
    {
     "data": {
      "text/plain": [
       "[1, 2, 3, 4, 5, 6, 7, 8, 9, 41, 87]"
      ]
     },
     "execution_count": 30,
     "metadata": {},
     "output_type": "execute_result"
    }
   ],
   "source": [
    "arr = [1,5,9,8,7,6,3,4,41,87,2]\n",
    "bubblesort_recursion(arr, len(arr))"
   ]
  },
  {
   "cell_type": "code",
   "execution_count": 57,
   "metadata": {},
   "outputs": [],
   "source": [
    "#insertion sort using recursion\n",
    "\n",
    "def insertionsort_recursion(arr, i, n):\n",
    "    \"\"\"Sorts a list using the insertion sort algorithm recursively.\"\"\"\n",
    "\n",
    "    if i == n:  # Base case: If the list has only one element, it's already sorted\n",
    "        return arr\n",
    "    \n",
    "    j = i-1\n",
    "\n",
    "    while j>=0 and arr[j+1]< arr[j]:\n",
    "        arr[j+1], arr[j] =  arr[j], arr[j+1]\n",
    "        j-=1\n",
    "\n",
    "    insertionsort_recursion(arr, i+1, n)\n",
    "    return arr"
   ]
  },
  {
   "cell_type": "code",
   "execution_count": 58,
   "metadata": {},
   "outputs": [
    {
     "data": {
      "text/plain": [
       "[2, 3, 4, 5, 6, 7, 8, 9, 41, 87, 89]"
      ]
     },
     "execution_count": 58,
     "metadata": {},
     "output_type": "execute_result"
    }
   ],
   "source": [
    "arr = [89,5,9,8,7,6,3,4,41,87,2]\n",
    "insertionsort_recursion(arr, 1, len(arr))"
   ]
  },
  {
   "cell_type": "markdown",
   "metadata": {},
   "source": [
    "QuickSort:\n",
    "\n",
    "Approach:\n",
    "\n",
    "Now, let’s understand how we are going to implement the logic of the above steps. In the intuition, we have seen that the given array should be broken down into subarrays. But while implementing, we are not going to break down and create any new arrays. Instead, we will specify the range of the subarrays using two indices or pointers(i.e. low pointer and high pointer) each time while breaking down the array.\n",
    "\n",
    "The algorithm steps are the following for the quickSort() function:\n",
    "\n",
    "    1. Initially, the low points to the first index and the high points to the last index(as the range is n i.e. the size of the array). \n",
    "    2. After that, we will get the index(where the pivot should be placed after sorting) while shifting the smaller elements on the left and the larger ones on the right using a partition() function discussed later.\n",
    "    Now, this index can be called the partition index as it creates a partition between the left and the right unsorted subarrays.\n",
    "    3.After placing the pivot in the partition index(within the partition() function specified), we need to call the function quickSort() for the left and the right subarray recursively. So, the range of the left subarray will be [low to (partition index – 1)] and the range of the right subarray will be [(partition index + 1) to high]. \n",
    "    4. This is how the recursion will continue until the range becomes 1."
   ]
  },
  {
   "cell_type": "code",
   "execution_count": null,
   "metadata": {},
   "outputs": [],
   "source": [
    "#quick sort"
   ]
  }
 ],
 "metadata": {
  "kernelspec": {
   "display_name": "base",
   "language": "python",
   "name": "python3"
  },
  "language_info": {
   "codemirror_mode": {
    "name": "ipython",
    "version": 3
   },
   "file_extension": ".py",
   "mimetype": "text/x-python",
   "name": "python",
   "nbconvert_exporter": "python",
   "pygments_lexer": "ipython3",
   "version": "3.11.5"
  }
 },
 "nbformat": 4,
 "nbformat_minor": 2
}
